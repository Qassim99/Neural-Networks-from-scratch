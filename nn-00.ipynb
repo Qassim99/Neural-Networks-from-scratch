{
 "cells": [
  {
   "cell_type": "code",
   "execution_count": 3,
   "metadata": {},
   "outputs": [],
   "source": [
    "import numpy as np"
   ]
  },
  {
   "cell_type": "code",
   "execution_count": 4,
   "metadata": {},
   "outputs": [
    {
     "data": {
      "text/plain": [
       "'2.1.1'"
      ]
     },
     "execution_count": 4,
     "metadata": {},
     "output_type": "execute_result"
    }
   ],
   "source": [
    "np.__version__"
   ]
  },
  {
   "cell_type": "code",
   "execution_count": 14,
   "metadata": {},
   "outputs": [],
   "source": [
    "input = [1, 2, 3]"
   ]
  },
  {
   "cell_type": "code",
   "execution_count": 12,
   "metadata": {},
   "outputs": [],
   "source": [
    "weights = [0.2, 0.8, -0.5]\n",
    "bais = 2"
   ]
  },
  {
   "cell_type": "code",
   "execution_count": 15,
   "metadata": {},
   "outputs": [
    {
     "data": {
      "text/plain": [
       "2.3"
      ]
     },
     "execution_count": 15,
     "metadata": {},
     "output_type": "execute_result"
    }
   ],
   "source": [
    "output = (input[0]* weights[0] +\n",
    "           input[1]* weights[1] +\n",
    "           input[2]* weights[2] + bais) \n",
    "\n",
    "output"
   ]
  },
  {
   "cell_type": "code",
   "execution_count": 16,
   "metadata": {},
   "outputs": [],
   "source": [
    "weights1 = [0.2, 0.8, -0.5]\n",
    "weights2 = [0.24, -0.3, 0.5]\n",
    "weights3 = [-0.2, 0.2, -0.3]\n",
    "bais1 = 2\n",
    "bais2 = 2\n",
    "bais3 = 2"
   ]
  },
  {
   "cell_type": "code",
   "execution_count": 19,
   "metadata": {},
   "outputs": [
    {
     "data": {
      "text/plain": [
       "[2.3, 3.14, 1.3]"
      ]
     },
     "execution_count": 19,
     "metadata": {},
     "output_type": "execute_result"
    }
   ],
   "source": [
    "output1 = (input[0]* weights1[0] +\n",
    "           input[1]* weights1[1] +\n",
    "           input[2]* weights1[2] + bais1) \n",
    "output2 = (input[0]* weights2[0] +\n",
    "           input[1]* weights2[1] +\n",
    "           input[2]* weights2[2] + bais2) \n",
    "output3 = (input[0]* weights3[0] +\n",
    "           input[1]* weights3[1] +\n",
    "           input[2]* weights3[2] + bais3) \n",
    "outputs = [output1, output2, output3]\n",
    "outputs"
   ]
  },
  {
   "cell_type": "code",
   "execution_count": 29,
   "metadata": {},
   "outputs": [],
   "source": [
    "weights= [[0.2, 0.8, -0.5],\n",
    "            [0.24, -0.3, 0.5],\n",
    "            [-0.2, 0.2, -0.3]]\n",
    "biases = [2, 3, 1]"
   ]
  },
  {
   "cell_type": "code",
   "execution_count": 35,
   "metadata": {},
   "outputs": [
    {
     "data": {
      "text/plain": [
       "[2.3, 4.140000000000001, 0.30000000000000004]"
      ]
     },
     "execution_count": 35,
     "metadata": {},
     "output_type": "execute_result"
    }
   ],
   "source": [
    "layer_outputs= []\n",
    "for neuron_weight , neuron_bais in zip(weights, biases):\n",
    "    neuron_output = 0\n",
    "    for n_input , weight in zip(input, neuron_weight):\n",
    "        neuron_output += n_input* weight\n",
    "    neuron_output += neuron_bais\n",
    "\n",
    "    layer_outputs.append(neuron_output)\n",
    "layer_outputs\n"
   ]
  }
 ],
 "metadata": {
  "kernelspec": {
   "display_name": ".venv",
   "language": "python",
   "name": "python3"
  },
  "language_info": {
   "codemirror_mode": {
    "name": "ipython",
    "version": 3
   },
   "file_extension": ".py",
   "mimetype": "text/x-python",
   "name": "python",
   "nbconvert_exporter": "python",
   "pygments_lexer": "ipython3",
   "version": "3.11.9"
  }
 },
 "nbformat": 4,
 "nbformat_minor": 2
}
